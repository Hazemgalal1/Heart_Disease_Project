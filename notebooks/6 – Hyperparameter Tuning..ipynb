{
  "nbformat": 4,
  "nbformat_minor": 0,
  "metadata": {
    "colab": {
      "provenance": []
    },
    "kernelspec": {
      "name": "python3",
      "display_name": "Python 3"
    },
    "language_info": {
      "name": "python"
    }
  },
  "cells": [
    {
      "cell_type": "markdown",
      "source": [
        "Phase 6 _ Hyperparameter Tuning."
      ],
      "metadata": {
        "id": "eRjoBXfD-pnT"
      }
    },
    {
      "cell_type": "code",
      "source": [
        "#  mount drive and import libraries\n",
        "from google.colab import drive\n",
        "drive.mount('/content/drive')\n",
        "\n",
        "import pandas as pd\n",
        "import numpy as np\n",
        "import time\n",
        "import joblib\n",
        "import matplotlib.pyplot as plt\n",
        "\n",
        "from sklearn.linear_model import LogisticRegression\n",
        "from sklearn.ensemble import RandomForestClassifier\n",
        "from sklearn.svm import SVC\n",
        "from sklearn.neighbors import KNeighborsClassifier\n",
        "from sklearn.model_selection import RandomizedSearchCV\n",
        "from sklearn.metrics import accuracy_score\n"
      ],
      "metadata": {
        "colab": {
          "base_uri": "https://localhost:8080/"
        },
        "id": "CyhEpraL-oy2",
        "outputId": "8e5ed9f2-9dc1-4a5b-972e-1229bfd869ed"
      },
      "execution_count": 13,
      "outputs": [
        {
          "output_type": "stream",
          "name": "stdout",
          "text": [
            "Drive already mounted at /content/drive; to attempt to forcibly remount, call drive.mount(\"/content/drive\", force_remount=True).\n"
          ]
        }
      ]
    },
    {
      "cell_type": "code",
      "source": [
        "#  load train and test data from Drive\n",
        "train_path = \"/content/drive/MyDrive/train.csv\"\n",
        "test_path  = \"/content/drive/MyDrive/test.csv\"\n",
        "\n",
        "train = pd.read_csv(train_path)\n",
        "test  = pd.read_csv(test_path)\n",
        "\n",
        "X_train, y_train = train.drop(columns=[\"target\"]), train[\"target\"]\n",
        "X_test,  y_test  = test.drop(columns=[\"target\"]),  test[\"target\"]\n",
        "\n",
        "print(\"Train shape:\", train.shape)\n",
        "print(\"Test shape: \", test.shape)\n",
        "print(\"Target classes:\", sorted(y_train.unique()))\n"
      ],
      "metadata": {
        "colab": {
          "base_uri": "https://localhost:8080/"
        },
        "id": "V7rDhWl3-1W0",
        "outputId": "9e7d1d41-7540-45b0-cfd9-882b989ec921"
      },
      "execution_count": 14,
      "outputs": [
        {
          "output_type": "stream",
          "name": "stdout",
          "text": [
            "Train shape: (242, 16)\n",
            "Test shape:  (61, 16)\n",
            "Target classes: [np.int64(0), np.int64(1), np.int64(2), np.int64(3), np.int64(4)]\n"
          ]
        }
      ]
    },
    {
      "cell_type": "code",
      "source": [
        "#  define models and parameter distributions\n",
        "models = {\n",
        "    \"Logistic Regression\": LogisticRegression(max_iter=1000, random_state=42),\n",
        "    \"Random Forest\": RandomForestClassifier(random_state=42),\n",
        "    \"SVM\": SVC(probability=True, random_state=42),\n",
        "    \"KNN\": KNeighborsClassifier()\n",
        "}\n",
        "\n",
        "param_dists = {\n",
        "    \"Logistic Regression\": {\n",
        "        \"C\": np.logspace(-2, 2, 10),\n",
        "        \"penalty\": [\"l2\"],\n",
        "        \"solver\": [\"lbfgs\"]\n",
        "    },\n",
        "    \"Random Forest\": {\n",
        "        \"n_estimators\": [50, 100, 200],\n",
        "        \"max_depth\": [None, 5, 10, 20],\n",
        "        \"min_samples_split\": [2, 5, 10]\n",
        "    },\n",
        "    \"SVM\": {\n",
        "        \"C\": np.logspace(-2, 2, 8),\n",
        "        \"kernel\": [\"linear\", \"rbf\"],\n",
        "        \"gamma\": [\"scale\", \"auto\"]\n",
        "    },\n",
        "    \"KNN\": {\n",
        "        \"n_neighbors\": list(range(3, 11)),\n",
        "        \"weights\": [\"uniform\", \"distance\"]\n",
        "    }\n",
        "}\n"
      ],
      "metadata": {
        "id": "0mLx3Rfg_EWc"
      },
      "execution_count": 15,
      "outputs": []
    },
    {
      "cell_type": "code",
      "source": [
        "#  run RandomizedSearchCV for each model, evaluate and save best model\n",
        "results = []\n",
        "n_iter = 10\n",
        "\n",
        "for name, model in models.items():\n",
        "    print(f\"\\nTuning {name} ...\")\n",
        "    dist = param_dists[name]\n",
        "    try:\n",
        "        rs = RandomizedSearchCV(\n",
        "            model,\n",
        "            param_distributions=dist,\n",
        "            n_iter=n_iter,\n",
        "            cv=5,\n",
        "            scoring=\"accuracy\",\n",
        "            random_state=42,\n",
        "            n_jobs=-1,\n",
        "            verbose=1\n",
        "        )\n",
        "        t0 = time.time()\n",
        "        rs.fit(X_train, y_train)\n",
        "        elapsed = time.time() - t0\n",
        "        best = rs.best_estimator_\n",
        "        best_params = rs.best_params_\n",
        "        print(f\" Done in {elapsed:.1f}s - best params: {best_params}\")\n",
        "    except Exception as e:\n",
        "        print(\"RandomizedSearchCV failed or timed out:\", e)\n",
        "        print(\"Falling back to training the default model and continuing.\")\n",
        "        t0 = time.time()\n",
        "        model.fit(X_train, y_train)\n",
        "        elapsed = time.time() - t0\n",
        "        best = model\n",
        "        best_params = \"default_fit\"\n",
        "\n",
        "    # Evaluate on test set\n",
        "    y_pred = best.predict(X_test)\n",
        "    acc = accuracy_score(y_test, y_pred)\n",
        "    print(f\" Test Accuracy for {name}: {acc:.4f}\")\n",
        "\n",
        "    # Save best model to Drive\n",
        "    safe_name = name.lower().replace(\" \", \"\")\n",
        "    save_path = f\"/content/drive/MyDrive/models/{safe_name}_best.pkl\"\n",
        "    joblib.dump(best, save_path)\n",
        "    print(f\" Saved: {save_path}\")\n",
        "\n",
        "    results.append({\"Model\": name, \"Best Params\": best_params, \"Test Accuracy\": acc})\n"
      ],
      "metadata": {
        "colab": {
          "base_uri": "https://localhost:8080/"
        },
        "id": "mf4ul2U5_MVv",
        "outputId": "8d0cfaea-7351-49f1-dc87-de7dc900c3e2"
      },
      "execution_count": 16,
      "outputs": [
        {
          "output_type": "stream",
          "name": "stdout",
          "text": [
            "\n",
            "Tuning Logistic Regression ...\n",
            "Fitting 5 folds for each of 10 candidates, totalling 50 fits\n",
            " Done in 0.7s - best params: {'solver': 'lbfgs', 'penalty': 'l2', 'C': np.float64(0.5994842503189409)}\n",
            " Test Accuracy for Logistic Regression: 0.5902\n",
            " Saved: /content/drive/MyDrive/models/logisticregression_best.pkl\n",
            "\n",
            "Tuning Random Forest ...\n",
            "Fitting 5 folds for each of 10 candidates, totalling 50 fits\n",
            " Done in 12.1s - best params: {'n_estimators': 100, 'min_samples_split': 5, 'max_depth': 5}\n",
            " Test Accuracy for Random Forest: 0.5246\n",
            " Saved: /content/drive/MyDrive/models/randomforest_best.pkl\n",
            "\n",
            "Tuning SVM ...\n",
            "Fitting 5 folds for each of 10 candidates, totalling 50 fits\n",
            " Done in 4.0s - best params: {'kernel': 'linear', 'gamma': 'scale', 'C': np.float64(0.517947467923121)}\n",
            " Test Accuracy for SVM: 0.5902\n",
            " Saved: /content/drive/MyDrive/models/svm_best.pkl\n",
            "\n",
            "Tuning KNN ...\n",
            "Fitting 5 folds for each of 10 candidates, totalling 50 fits\n",
            " Done in 0.3s - best params: {'weights': 'uniform', 'n_neighbors': 10}\n",
            " Test Accuracy for KNN: 0.5246\n",
            " Saved: /content/drive/MyDrive/models/knn_best.pkl\n"
          ]
        }
      ]
    },
    {
      "cell_type": "code",
      "source": [
        "#  save results and plot comparison\n",
        "results_df = pd.DataFrame(results)\n",
        "results_csv_path = \"/content/drive/MyDrive/Heart_Disease_Project/data/hyperparam_results.csv\"\n",
        "results_df.to_csv(results_csv_path, index=False)\n",
        "print(\"Saved results CSV:\", results_csv_path)\n",
        "\n",
        "# Plot comparison\n",
        "plt.figure(figsize=(8,5))\n",
        "plt.bar(results_df[\"Model\"], results_df[\"Test Accuracy\"], color=\"skyblue\")\n",
        "plt.ylim(0,1)\n",
        "plt.ylabel(\"Test Accuracy\")\n",
        "plt.title(\"Model Accuracy after Hyperparameter Tuning\")\n",
        "plt.xticks(rotation=30)\n",
        "plot_path = \"/content/drive/MyDrive/phase6_accuracy_plot.png\"\n",
        "plt.tight_layout()\n",
        "plt.savefig(plot_path)\n",
        "plt.show()\n",
        "print(\"Saved plot:\", plot_path)\n"
      ],
      "metadata": {
        "colab": {
          "base_uri": "https://localhost:8080/",
          "height": 542
        },
        "id": "PZ3EjVrh_6fa",
        "outputId": "f1cc5ab7-3689-41dc-ad24-22c1eba6a1d2"
      },
      "execution_count": 17,
      "outputs": [
        {
          "output_type": "stream",
          "name": "stdout",
          "text": [
            "Saved results CSV: /content/drive/MyDrive/Heart_Disease_Project/data/hyperparam_results.csv\n"
          ]
        },
        {
          "output_type": "display_data",
          "data": {
            "text/plain": [
              "<Figure size 800x500 with 1 Axes>"
            ],
            "image/png": "[encoded data removed]"
          },
          "metadata": {}
        },
        {
          "output_type": "stream",
          "name": "stdout",
          "text": [
            "Saved plot: /content/drive/MyDrive/phase6_accuracy_plot.png\n"
          ]
        }
      ]
    }
  ]
}